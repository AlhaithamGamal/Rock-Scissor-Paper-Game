{
 "cells": [
  {
   "cell_type": "code",
   "execution_count": 1,
   "metadata": {},
   "outputs": [
    {
     "name": "stdout",
     "output_type": "stream",
     "text": [
      "enter your name !h\n",
      "welcome h\n",
      "let's play enter 0 for rock 1 for paper 2 for scissor1\n",
      "You win by scissor\n",
      "enter 1 for playing again and 2 for exit2\n"
     ]
    }
   ],
   "source": [
    "import random \n",
    "while True:\n",
    "    enter2 = input(\"enter your name !\")\n",
    "    print(\"welcome {}\".format(enter2))\n",
    "    choiceOne = int(input(\"let's play enter 0 for rock 1 for paper 2 for scissor\"))\n",
    "    choiceTwo = random.randint(0,2)\n",
    "    if choiceOne == 0 and choiceTwo == 0:\n",
    "        print(\"Fair Rock\")\n",
    "        x = int(input(\"enter 1 for playing again and 2 for exit\"))\n",
    "        if x == 1:\n",
    "            continue\n",
    "        else:\n",
    "            break\n",
    "    elif choiceOne == 1 and choiceTwo == 1:\n",
    "        print(\"Fair paper\")\n",
    "        x = int(input(\"enter 1 for playing again and 2 for exit\"))\n",
    "        if x == 1:\n",
    "            continue\n",
    "        else:\n",
    "            break\n",
    "    elif choiceOne == 1 and choiceTwo == 0:\n",
    "        print(\"You win by paper\")\n",
    "        x = int(input(\"enter 1 for playing again and 2 for exit\"))\n",
    "        if x == 1:\n",
    "            continue\n",
    "        else:\n",
    "            break\n",
    "    elif choiceOne == 0 and choiceTwo == 1:\n",
    "        print(\"Computer win by paper\")\n",
    "        x = int(input(\"enter 1 for playing again and 2 for exit\"))\n",
    "        if x == 1:\n",
    "            continue\n",
    "        else:\n",
    "            break\n",
    "    elif choiceOne == 0 and choiceTwo == 2:\n",
    "        print(\"You win by rock\")\n",
    "        x = int(input(\"enter 1 for playing again and 2 for exit\"))\n",
    "        if x == 1:\n",
    "            continue\n",
    "        else:\n",
    "            break\n",
    "    elif choiceTwo == 0 and choiceOne == 2:\n",
    "        print(\"Computer win by rock\")\n",
    "        x = int(input(\"enter 1 for playing again and 2 for exit\"))\n",
    "        if x == 1:\n",
    "            continue\n",
    "        else:\n",
    "            break\n",
    "    elif choiceOne == 1 and choiceTwo == 2:\n",
    "        print(\"You win by scissor\")\n",
    "        x = int(input(\"enter 1 for playing again and 2 for exit\"))\n",
    "        if x == 1:\n",
    "            continue\n",
    "        else:\n",
    "            break\n",
    "    elif choiceTwo == 1 and choiceOne == 2:\n",
    "        print(\"You win by scissor\")\n",
    "        x = int(input(\"enter 1 for playing again and 2 for exit\"))\n",
    "        if x == 1:\n",
    "            continue\n",
    "        else:\n",
    "            break"
   ]
  },
  {
   "cell_type": "code",
   "execution_count": null,
   "metadata": {},
   "outputs": [],
   "source": []
  }
 ],
 "metadata": {
  "kernelspec": {
   "display_name": "Python 3",
   "language": "python",
   "name": "python3"
  },
  "language_info": {
   "codemirror_mode": {
    "name": "ipython",
    "version": 3
   },
   "file_extension": ".py",
   "mimetype": "text/x-python",
   "name": "python",
   "nbconvert_exporter": "python",
   "pygments_lexer": "ipython3",
   "version": "3.7.1"
  }
 },
 "nbformat": 4,
 "nbformat_minor": 2
}
